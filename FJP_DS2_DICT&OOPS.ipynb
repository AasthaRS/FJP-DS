{
  "nbformat": 4,
  "nbformat_minor": 0,
  "metadata": {
    "colab": {
      "name": "FJP-DS2-DICT&OOPS.ipynb",
      "provenance": [],
      "authorship_tag": "ABX9TyMY7jjYQhKqmrSVA4BSiFGB",
      "include_colab_link": true
    },
    "kernelspec": {
      "name": "python3",
      "display_name": "Python 3"
    },
    "language_info": {
      "name": "python"
    }
  },
  "cells": [
    {
      "cell_type": "markdown",
      "metadata": {
        "id": "view-in-github",
        "colab_type": "text"
      },
      "source": [
        "<a href=\"https://colab.research.google.com/github/AasthaRS/FJP-DS/blob/main/FJP_DS2_DICT%26OOPS.ipynb\" target=\"_parent\"><img src=\"https://colab.research.google.com/assets/colab-badge.svg\" alt=\"Open In Colab\"/></a>"
      ]
    },
    {
      "cell_type": "code",
      "execution_count": 1,
      "metadata": {
        "id": "1Wj7Xh8LGNI4"
      },
      "outputs": [],
      "source": [
        "dict1 = {'NAME' : 'AASTHA', 'COURSE' : 'MCA', 'DEPT' : 'CS'} "
      ]
    },
    {
      "cell_type": "code",
      "source": [
        "type(dict1)"
      ],
      "metadata": {
        "colab": {
          "base_uri": "https://localhost:8080/"
        },
        "id": "9REuY4j4G3rP",
        "outputId": "3fc8e655-a297-42b2-af43-4b88853c4e54"
      },
      "execution_count": 2,
      "outputs": [
        {
          "output_type": "execute_result",
          "data": {
            "text/plain": [
              "dict"
            ]
          },
          "metadata": {},
          "execution_count": 2
        }
      ]
    },
    {
      "cell_type": "code",
      "source": [
        "dict1"
      ],
      "metadata": {
        "colab": {
          "base_uri": "https://localhost:8080/"
        },
        "id": "Q-Zigo5jG7n1",
        "outputId": "3bc6fd69-213e-4ff3-8bc1-8d4a585a2ce6"
      },
      "execution_count": 3,
      "outputs": [
        {
          "output_type": "execute_result",
          "data": {
            "text/plain": [
              "{'COURSE': 'MCA', 'DEPT': 'CS', 'NAME': 'AASTHA'}"
            ]
          },
          "metadata": {},
          "execution_count": 3
        }
      ]
    },
    {
      "cell_type": "code",
      "source": [
        "dict1[0]                           # not scriptable"
      ],
      "metadata": {
        "colab": {
          "base_uri": "https://localhost:8080/",
          "height": 165
        },
        "id": "Pc0z5khEG9O8",
        "outputId": "9e7ed0e6-7161-40dd-97a9-0ad79f4929f4"
      },
      "execution_count": 4,
      "outputs": [
        {
          "output_type": "error",
          "ename": "KeyError",
          "evalue": "ignored",
          "traceback": [
            "\u001b[0;31m---------------------------------------------------------------------------\u001b[0m",
            "\u001b[0;31mKeyError\u001b[0m                                  Traceback (most recent call last)",
            "\u001b[0;32m<ipython-input-4-90e2046cfae3>\u001b[0m in \u001b[0;36m<module>\u001b[0;34m()\u001b[0m\n\u001b[0;32m----> 1\u001b[0;31m \u001b[0mdict1\u001b[0m\u001b[0;34m[\u001b[0m\u001b[0;36m0\u001b[0m\u001b[0;34m]\u001b[0m\u001b[0;34m\u001b[0m\u001b[0;34m\u001b[0m\u001b[0m\n\u001b[0m",
            "\u001b[0;31mKeyError\u001b[0m: 0"
          ]
        }
      ]
    },
    {
      "cell_type": "code",
      "source": [
        "dict1['NAME']"
      ],
      "metadata": {
        "colab": {
          "base_uri": "https://localhost:8080/",
          "height": 35
        },
        "id": "jJWSKialHAl1",
        "outputId": "fac8be12-c233-468b-d6e4-bb87cf5f65a8"
      },
      "execution_count": 5,
      "outputs": [
        {
          "output_type": "execute_result",
          "data": {
            "application/vnd.google.colaboratory.intrinsic+json": {
              "type": "string"
            },
            "text/plain": [
              "'AASTHA'"
            ]
          },
          "metadata": {},
          "execution_count": 5
        }
      ]
    },
    {
      "cell_type": "code",
      "source": [
        "dict1[2] = \"Two\"                           # mutable"
      ],
      "metadata": {
        "id": "f_pNhUWhHDRg"
      },
      "execution_count": 6,
      "outputs": []
    },
    {
      "cell_type": "code",
      "source": [
        "dict1"
      ],
      "metadata": {
        "colab": {
          "base_uri": "https://localhost:8080/"
        },
        "id": "rEprvZErHMmU",
        "outputId": "137e8a18-8683-4990-c207-cb997a65a3ca"
      },
      "execution_count": 7,
      "outputs": [
        {
          "output_type": "execute_result",
          "data": {
            "text/plain": [
              "{2: 'Two', 'COURSE': 'MCA', 'DEPT': 'CS', 'NAME': 'AASTHA'}"
            ]
          },
          "metadata": {},
          "execution_count": 7
        }
      ]
    },
    {
      "cell_type": "code",
      "source": [
        "dict1[2] = \"NUMBER\""
      ],
      "metadata": {
        "id": "3rNBnsolHN1m"
      },
      "execution_count": 8,
      "outputs": []
    },
    {
      "cell_type": "code",
      "source": [
        "dict2 = { 1 : \"ONE\", 1 : \"SIX\", 23 : 45}"
      ],
      "metadata": {
        "id": "Ur0H629xHTHj"
      },
      "execution_count": 9,
      "outputs": []
    },
    {
      "cell_type": "code",
      "source": [
        "dict2            # ducplicates  not allowed"
      ],
      "metadata": {
        "colab": {
          "base_uri": "https://localhost:8080/"
        },
        "id": "ihfQ-PJjHlHD",
        "outputId": "47790662-7356-494e-e6fd-76636f57ca9e"
      },
      "execution_count": 10,
      "outputs": [
        {
          "output_type": "execute_result",
          "data": {
            "text/plain": [
              "{1: 'SIX', 23: 45}"
            ]
          },
          "metadata": {},
          "execution_count": 10
        }
      ]
    },
    {
      "cell_type": "code",
      "source": [
        "# list can not be taken as key\n",
        "\n",
        "dict2[[3,66,8]] = 'list'"
      ],
      "metadata": {
        "colab": {
          "base_uri": "https://localhost:8080/",
          "height": 200
        },
        "id": "hzZWOevtHmUR",
        "outputId": "407c4185-cb49-4bf8-872e-e4d13fd3ecab"
      },
      "execution_count": 11,
      "outputs": [
        {
          "output_type": "error",
          "ename": "TypeError",
          "evalue": "ignored",
          "traceback": [
            "\u001b[0;31m---------------------------------------------------------------------------\u001b[0m",
            "\u001b[0;31mTypeError\u001b[0m                                 Traceback (most recent call last)",
            "\u001b[0;32m<ipython-input-11-388adc3b756a>\u001b[0m in \u001b[0;36m<module>\u001b[0;34m()\u001b[0m\n\u001b[1;32m      1\u001b[0m \u001b[0;31m# list can not be taken as key\u001b[0m\u001b[0;34m\u001b[0m\u001b[0;34m\u001b[0m\u001b[0;34m\u001b[0m\u001b[0m\n\u001b[1;32m      2\u001b[0m \u001b[0;34m\u001b[0m\u001b[0m\n\u001b[0;32m----> 3\u001b[0;31m \u001b[0mdict2\u001b[0m\u001b[0;34m[\u001b[0m\u001b[0;34m[\u001b[0m\u001b[0;36m3\u001b[0m\u001b[0;34m,\u001b[0m\u001b[0;36m66\u001b[0m\u001b[0;34m,\u001b[0m\u001b[0;36m8\u001b[0m\u001b[0;34m]\u001b[0m\u001b[0;34m]\u001b[0m \u001b[0;34m=\u001b[0m \u001b[0;34m'list'\u001b[0m\u001b[0;34m\u001b[0m\u001b[0;34m\u001b[0m\u001b[0m\n\u001b[0m",
            "\u001b[0;31mTypeError\u001b[0m: unhashable type: 'list'"
          ]
        }
      ]
    },
    {
      "cell_type": "code",
      "source": [
        "dict1.keys()"
      ],
      "metadata": {
        "colab": {
          "base_uri": "https://localhost:8080/"
        },
        "id": "w5wXDU8ZIDDP",
        "outputId": "6a713346-a7e7-4938-db6a-3f3045d91b0c"
      },
      "execution_count": 12,
      "outputs": [
        {
          "output_type": "execute_result",
          "data": {
            "text/plain": [
              "dict_keys(['NAME', 'COURSE', 'DEPT', 2])"
            ]
          },
          "metadata": {},
          "execution_count": 12
        }
      ]
    },
    {
      "cell_type": "code",
      "source": [
        "dict1.values()"
      ],
      "metadata": {
        "colab": {
          "base_uri": "https://localhost:8080/"
        },
        "id": "5WNgZduwIHuk",
        "outputId": "4aa61be4-0f20-48a3-ce1e-72d5b72b078b"
      },
      "execution_count": 13,
      "outputs": [
        {
          "output_type": "execute_result",
          "data": {
            "text/plain": [
              "dict_values(['AASTHA', 'MCA', 'CS', 'NUMBER'])"
            ]
          },
          "metadata": {},
          "execution_count": 13
        }
      ]
    },
    {
      "cell_type": "code",
      "source": [
        "for i in dict1.keys():\n",
        "  print(i,end=\" \")"
      ],
      "metadata": {
        "colab": {
          "base_uri": "https://localhost:8080/"
        },
        "id": "kL2FwyJDILsq",
        "outputId": "d3fb0050-fdbb-435a-88b2-f1f2fbd1bc89"
      },
      "execution_count": 14,
      "outputs": [
        {
          "output_type": "stream",
          "name": "stdout",
          "text": [
            "NAME COURSE DEPT 2 "
          ]
        }
      ]
    },
    {
      "cell_type": "code",
      "source": [
        "for i,j in dict1.items():\n",
        "  print(i,j)"
      ],
      "metadata": {
        "colab": {
          "base_uri": "https://localhost:8080/"
        },
        "id": "Qpd6mah1IboM",
        "outputId": "fb1f86d0-1ba7-488d-db2b-9d0e32b3e580"
      },
      "execution_count": 16,
      "outputs": [
        {
          "output_type": "stream",
          "name": "stdout",
          "text": [
            "NAME AASTHA\n",
            "COURSE MCA\n",
            "DEPT CS\n",
            "2 NUMBER\n"
          ]
        }
      ]
    },
    {
      "cell_type": "code",
      "source": [
        "for i,j in zip(dict1.keys(), dict1.values()):\n",
        "  print(i,j)"
      ],
      "metadata": {
        "colab": {
          "base_uri": "https://localhost:8080/"
        },
        "id": "iFoeFGq8Ik9O",
        "outputId": "9a53cc58-814b-423b-df59-3354a09defb8"
      },
      "execution_count": 17,
      "outputs": [
        {
          "output_type": "stream",
          "name": "stdout",
          "text": [
            "NAME AASTHA\n",
            "COURSE MCA\n",
            "DEPT CS\n",
            "2 NUMBER\n"
          ]
        }
      ]
    },
    {
      "cell_type": "code",
      "source": [
        "# dict2.clear()   will works same as dict2 = dict()"
      ],
      "metadata": {
        "id": "s_W0ZwvzIx-J"
      },
      "execution_count": 18,
      "outputs": []
    },
    {
      "cell_type": "code",
      "source": [
        "# dict3.copy(dict1) is same as dict3 = dict1"
      ],
      "metadata": {
        "id": "sfm5R87bJDr6"
      },
      "execution_count": 102,
      "outputs": []
    },
    {
      "cell_type": "markdown",
      "source": [
        "Ques 1:- Make one Dictionary Which has a number 1 to 5 as a key and it's square as a value\n",
        "\n",
        "dict ={\n",
        "    \"1\":1,\n",
        "    '2':4,\n",
        "    '3':9,\n",
        "    '4':16,\n",
        "    '5':25\n",
        "}"
      ],
      "metadata": {
        "id": "kvSneiH_Yqrj"
      }
    },
    {
      "cell_type": "code",
      "source": [
        "dict3 = {x : x*x for x in range(1,6)}"
      ],
      "metadata": {
        "id": "fJe8xCSlYjxN"
      },
      "execution_count": 103,
      "outputs": []
    },
    {
      "cell_type": "code",
      "source": [
        "dict3"
      ],
      "metadata": {
        "colab": {
          "base_uri": "https://localhost:8080/"
        },
        "id": "44QSgaFUYjy9",
        "outputId": "ae131130-1b04-4734-a07d-954aa85e8ba8"
      },
      "execution_count": 104,
      "outputs": [
        {
          "output_type": "execute_result",
          "data": {
            "text/plain": [
              "{1: 1, 2: 4, 3: 9, 4: 16, 5: 25}"
            ]
          },
          "metadata": {},
          "execution_count": 104
        }
      ]
    },
    {
      "cell_type": "markdown",
      "source": [
        "Ques2 :-- Given a dictionary in Python WAP to find the sum of all items in the dictionary"
      ],
      "metadata": {
        "id": "WFX8mIVdY4ky"
      }
    },
    {
      "cell_type": "code",
      "source": [
        "print(sum(dict3.values()))"
      ],
      "metadata": {
        "colab": {
          "base_uri": "https://localhost:8080/"
        },
        "id": "vUK6QrguYj2j",
        "outputId": "11bc8cbe-8a40-487b-c8c4-9326d2fa6fd8"
      },
      "execution_count": 105,
      "outputs": [
        {
          "output_type": "stream",
          "name": "stdout",
          "text": [
            "55\n"
          ]
        }
      ]
    },
    {
      "cell_type": "markdown",
      "source": [
        "### try-except-else-finally"
      ],
      "metadata": {
        "id": "yuj5DxDSYdmh"
      }
    },
    {
      "cell_type": "code",
      "source": [
        "try:\n",
        "  dict2[[3,66,8]] = 'list'\n",
        "except:\n",
        "  print('list can not be taken as key')"
      ],
      "metadata": {
        "colab": {
          "base_uri": "https://localhost:8080/"
        },
        "id": "WdGAIk-fJPZO",
        "outputId": "826bd2e6-265e-41b2-d85c-784def8fdd86"
      },
      "execution_count": 20,
      "outputs": [
        {
          "output_type": "stream",
          "name": "stdout",
          "text": [
            "list can not be taken as key\n"
          ]
        }
      ]
    },
    {
      "cell_type": "code",
      "source": [
        "try:\n",
        "  a = 5\n",
        "  b = 8\n",
        "  a/b\n",
        "except:\n",
        "  print(\"Zero Division error!!\")\n",
        "else:\n",
        "  print(\"Great Success!!\")\n",
        "finally:\n",
        "  print(\"Division by zero is never possible ><\")"
      ],
      "metadata": {
        "colab": {
          "base_uri": "https://localhost:8080/"
        },
        "id": "anSTzOaxJgMy",
        "outputId": "30cf5a85-2790-4cc2-b548-86951b5d6968"
      },
      "execution_count": 21,
      "outputs": [
        {
          "output_type": "stream",
          "name": "stdout",
          "text": [
            "Great Success!!\n",
            "Division by zero is never possible ><\n"
          ]
        }
      ]
    },
    {
      "cell_type": "code",
      "source": [
        "class Phone:\n",
        "  a=10\n",
        "  b=5\n",
        "  def initilization(self,X):\n",
        "    self.a=X\n",
        "    self.d=X\n",
        "  def video(aastha):\n",
        "    print(\"the phone has v call feature\")\n",
        "    print(aastha.a)\n",
        "    print(aastha.d)"
      ],
      "metadata": {
        "id": "5-hDZ9ZqKAbH"
      },
      "execution_count": 22,
      "outputs": []
    },
    {
      "cell_type": "code",
      "source": [
        "p1 = Phone() "
      ],
      "metadata": {
        "id": "rjQ5uWpRQsbY"
      },
      "execution_count": 23,
      "outputs": []
    },
    {
      "cell_type": "code",
      "source": [
        "p1.initilization(20)"
      ],
      "metadata": {
        "id": "fcTx_GE1Qwky"
      },
      "execution_count": 24,
      "outputs": []
    },
    {
      "cell_type": "code",
      "source": [
        "p1.d = 76"
      ],
      "metadata": {
        "id": "GeAUnW0PQ4kn"
      },
      "execution_count": 25,
      "outputs": []
    },
    {
      "cell_type": "code",
      "source": [
        "p1.video()"
      ],
      "metadata": {
        "colab": {
          "base_uri": "https://localhost:8080/"
        },
        "id": "APTs9h8AQ6aB",
        "outputId": "044c0d52-0d07-49c5-a041-e24f42adcc85"
      },
      "execution_count": 26,
      "outputs": [
        {
          "output_type": "stream",
          "name": "stdout",
          "text": [
            "the phone has v call feature\n",
            "20\n",
            "76\n"
          ]
        }
      ]
    },
    {
      "cell_type": "code",
      "source": [
        "class Phone2:\n",
        "  def __init__(self,brand,color):\n",
        "    self.brand=brand\n",
        "    self.color=color\n",
        "  def printing(self):\n",
        "    print(\"i have \"+self.brand+\" in color \"+self.color)\n",
        "  def xyz(self):\n",
        "    print(\"abc\")"
      ],
      "metadata": {
        "id": "V1G1wDPnQ_Rc"
      },
      "execution_count": 28,
      "outputs": []
    },
    {
      "cell_type": "code",
      "source": [
        "class Phone3(Phone2):\n",
        "  def __init__(self,brand,color,ram,rom):\n",
        "    super().__init__(brand,color)                      # superclass constructor\n",
        "    self.ram=ram\n",
        "    self.rom=rom\n",
        "  def Printing2(self):\n",
        "    print(\"m hu child class\")\n",
        "    print(self.ram)\n",
        "    print(self.rom)"
      ],
      "metadata": {
        "id": "03zGzHeERKfa"
      },
      "execution_count": 29,
      "outputs": []
    },
    {
      "cell_type": "code",
      "source": [
        "p3=Phone3(\"Samsung\",\"White\",\"16 Gb\",\"256 Gb\")"
      ],
      "metadata": {
        "id": "jeaPTCwrRf9E"
      },
      "execution_count": 30,
      "outputs": []
    },
    {
      "cell_type": "code",
      "source": [
        "p3.printing()"
      ],
      "metadata": {
        "colab": {
          "base_uri": "https://localhost:8080/"
        },
        "id": "DdRTNzz-Rlpa",
        "outputId": "8b1eeaaf-06fe-4906-a793-f5261d5137f0"
      },
      "execution_count": 31,
      "outputs": [
        {
          "output_type": "stream",
          "name": "stdout",
          "text": [
            "i have Samsung in color White\n"
          ]
        }
      ]
    },
    {
      "cell_type": "code",
      "source": [
        "p3.Printing2()"
      ],
      "metadata": {
        "colab": {
          "base_uri": "https://localhost:8080/"
        },
        "id": "loKmyv6RRoFY",
        "outputId": "ca2fca68-39a3-4db0-c87e-d5b215e8b6b2"
      },
      "execution_count": 32,
      "outputs": [
        {
          "output_type": "stream",
          "name": "stdout",
          "text": [
            "m hu child class\n",
            "16 Gb\n",
            "256 Gb\n"
          ]
        }
      ]
    },
    {
      "cell_type": "markdown",
      "source": [
        "1. Public Members Everywhere Accesible\n",
        "2. Protected members ==> Derived class and own class\n",
        "3. Private Members ==> only own class"
      ],
      "metadata": {
        "id": "7FH0OHj0RygR"
      }
    },
    {
      "cell_type": "code",
      "source": [
        "class A:\n",
        "  a=10 #Public\n",
        "  _b=20 #Protected\n",
        "  __c=30 #Private\n",
        "  def print_all(self):\n",
        "    print(self.a)\n",
        "    print(self._b)\n",
        "    print(self.__c)"
      ],
      "metadata": {
        "id": "VVpBaa6MRqwX"
      },
      "execution_count": 33,
      "outputs": []
    },
    {
      "cell_type": "code",
      "source": [
        "a1 = A()"
      ],
      "metadata": {
        "id": "xUvWlN7WRzcS"
      },
      "execution_count": 34,
      "outputs": []
    },
    {
      "cell_type": "code",
      "source": [
        "a1.a"
      ],
      "metadata": {
        "colab": {
          "base_uri": "https://localhost:8080/"
        },
        "id": "_Z05eLStR9ik",
        "outputId": "4b149004-4526-45b6-b0c3-8c22563c3f72"
      },
      "execution_count": 35,
      "outputs": [
        {
          "output_type": "execute_result",
          "data": {
            "text/plain": [
              "10"
            ]
          },
          "metadata": {},
          "execution_count": 35
        }
      ]
    },
    {
      "cell_type": "code",
      "source": [
        "a1._b"
      ],
      "metadata": {
        "colab": {
          "base_uri": "https://localhost:8080/"
        },
        "id": "hamieE4YSFC3",
        "outputId": "16d199e8-04d5-4e66-bcf1-743a9fa80fd0"
      },
      "execution_count": 36,
      "outputs": [
        {
          "output_type": "execute_result",
          "data": {
            "text/plain": [
              "20"
            ]
          },
          "metadata": {},
          "execution_count": 36
        }
      ]
    },
    {
      "cell_type": "code",
      "source": [
        "a1.__c"
      ],
      "metadata": {
        "colab": {
          "base_uri": "https://localhost:8080/",
          "height": 165
        },
        "id": "2QGBTXmUSGUh",
        "outputId": "ea983b22-a465-4745-846a-47a3439f6364"
      },
      "execution_count": 38,
      "outputs": [
        {
          "output_type": "error",
          "ename": "AttributeError",
          "evalue": "ignored",
          "traceback": [
            "\u001b[0;31m---------------------------------------------------------------------------\u001b[0m",
            "\u001b[0;31mAttributeError\u001b[0m                            Traceback (most recent call last)",
            "\u001b[0;32m<ipython-input-38-0ee829354bf7>\u001b[0m in \u001b[0;36m<module>\u001b[0;34m()\u001b[0m\n\u001b[0;32m----> 1\u001b[0;31m \u001b[0ma1\u001b[0m\u001b[0;34m.\u001b[0m\u001b[0m__c\u001b[0m\u001b[0;34m\u001b[0m\u001b[0;34m\u001b[0m\u001b[0m\n\u001b[0m",
            "\u001b[0;31mAttributeError\u001b[0m: 'A' object has no attribute '__c'"
          ]
        }
      ]
    },
    {
      "cell_type": "code",
      "source": [
        "a1.print_all()"
      ],
      "metadata": {
        "colab": {
          "base_uri": "https://localhost:8080/"
        },
        "id": "LzPA474HSHTF",
        "outputId": "e0b2a64c-fb37-42f3-cd95-45ae123fa225"
      },
      "execution_count": 40,
      "outputs": [
        {
          "output_type": "stream",
          "name": "stdout",
          "text": [
            "10\n",
            "20\n",
            "30\n"
          ]
        }
      ]
    },
    {
      "cell_type": "code",
      "source": [
        "class B(A):\n",
        "  def show(self):\n",
        "    print(self.__c)"
      ],
      "metadata": {
        "id": "3f4FaqtTS4or"
      },
      "execution_count": 41,
      "outputs": []
    },
    {
      "cell_type": "code",
      "source": [
        "b1 = B()"
      ],
      "metadata": {
        "id": "_167pAT7TA36"
      },
      "execution_count": 42,
      "outputs": []
    },
    {
      "cell_type": "code",
      "source": [
        "b1.show()"
      ],
      "metadata": {
        "colab": {
          "base_uri": "https://localhost:8080/",
          "height": 252
        },
        "id": "7cKEK7RHTEt1",
        "outputId": "6010a857-99e1-4ccb-b03c-a9ac54145ac4"
      },
      "execution_count": 43,
      "outputs": [
        {
          "output_type": "error",
          "ename": "AttributeError",
          "evalue": "ignored",
          "traceback": [
            "\u001b[0;31m---------------------------------------------------------------------------\u001b[0m",
            "\u001b[0;31mAttributeError\u001b[0m                            Traceback (most recent call last)",
            "\u001b[0;32m<ipython-input-43-11f464a38ae7>\u001b[0m in \u001b[0;36m<module>\u001b[0;34m()\u001b[0m\n\u001b[0;32m----> 1\u001b[0;31m \u001b[0mb1\u001b[0m\u001b[0;34m.\u001b[0m\u001b[0mshow\u001b[0m\u001b[0;34m(\u001b[0m\u001b[0;34m)\u001b[0m\u001b[0;34m\u001b[0m\u001b[0;34m\u001b[0m\u001b[0m\n\u001b[0m",
            "\u001b[0;32m<ipython-input-41-984f4140dda0>\u001b[0m in \u001b[0;36mshow\u001b[0;34m(self)\u001b[0m\n\u001b[1;32m      1\u001b[0m \u001b[0;32mclass\u001b[0m \u001b[0mB\u001b[0m\u001b[0;34m(\u001b[0m\u001b[0mA\u001b[0m\u001b[0;34m)\u001b[0m\u001b[0;34m:\u001b[0m\u001b[0;34m\u001b[0m\u001b[0;34m\u001b[0m\u001b[0m\n\u001b[1;32m      2\u001b[0m   \u001b[0;32mdef\u001b[0m \u001b[0mshow\u001b[0m\u001b[0;34m(\u001b[0m\u001b[0mself\u001b[0m\u001b[0;34m)\u001b[0m\u001b[0;34m:\u001b[0m\u001b[0;34m\u001b[0m\u001b[0;34m\u001b[0m\u001b[0m\n\u001b[0;32m----> 3\u001b[0;31m     \u001b[0mprint\u001b[0m\u001b[0;34m(\u001b[0m\u001b[0mself\u001b[0m\u001b[0;34m.\u001b[0m\u001b[0m__c\u001b[0m\u001b[0;34m)\u001b[0m\u001b[0;34m\u001b[0m\u001b[0;34m\u001b[0m\u001b[0m\n\u001b[0m",
            "\u001b[0;31mAttributeError\u001b[0m: 'B' object has no attribute '_B__c'"
          ]
        }
      ]
    },
    {
      "cell_type": "markdown",
      "source": [
        "###  MULTIPLE INHERITENCE"
      ],
      "metadata": {
        "id": "QoIib7WeTRrQ"
      }
    },
    {
      "cell_type": "code",
      "source": [
        "class Parent1():\n",
        "  a = 4\n",
        "  _b = 9\n",
        "  __c = 45\n",
        "  def show(self):\n",
        "    print(\"a =\", self.a)\n",
        "    print(\"b =\", self._b)\n",
        "    print(\"c =\", self.__c)"
      ],
      "metadata": {
        "id": "P9nHzZCLTGxe"
      },
      "execution_count": 72,
      "outputs": []
    },
    {
      "cell_type": "code",
      "source": [
        "p1 = Parent1()"
      ],
      "metadata": {
        "id": "Cm4bwX1YT1Iw"
      },
      "execution_count": 73,
      "outputs": []
    },
    {
      "cell_type": "code",
      "source": [
        "class Parent2():\n",
        "  d = 5\n",
        "  _e = 10\n",
        "  __f = 15\n",
        "  def show(self):\n",
        "    print(\"d =\", self.d)\n",
        "    print(\"e =\", self._e)\n",
        "    print(\"f =\", self.__f)"
      ],
      "metadata": {
        "id": "Jnf4-KGyT5qK"
      },
      "execution_count": 74,
      "outputs": []
    },
    {
      "cell_type": "code",
      "source": [
        "p2 = Parent2()"
      ],
      "metadata": {
        "id": "5kke1cXlUpxs"
      },
      "execution_count": 75,
      "outputs": []
    },
    {
      "cell_type": "code",
      "source": [
        "class Child(Parent1, Parent2):\n",
        "  def print(self):\n",
        "    print(\"In Child class\")"
      ],
      "metadata": {
        "id": "YmY5l0w8Uu6f"
      },
      "execution_count": 76,
      "outputs": []
    },
    {
      "cell_type": "code",
      "source": [
        "ch = Child() "
      ],
      "metadata": {
        "id": "VQGD6bEaU97k"
      },
      "execution_count": 77,
      "outputs": []
    },
    {
      "cell_type": "code",
      "source": [
        "ch.print()"
      ],
      "metadata": {
        "colab": {
          "base_uri": "https://localhost:8080/"
        },
        "id": "jvqM3Z3mVFYL",
        "outputId": "b9ba5461-f52f-424f-f20a-f4a93783d40d"
      },
      "execution_count": 78,
      "outputs": [
        {
          "output_type": "stream",
          "name": "stdout",
          "text": [
            "In Child class\n"
          ]
        }
      ]
    },
    {
      "cell_type": "code",
      "source": [
        "p1.show()"
      ],
      "metadata": {
        "colab": {
          "base_uri": "https://localhost:8080/"
        },
        "id": "QL0bvispVM0K",
        "outputId": "5c1c2ed4-f554-4890-c5b6-46dd92b755f8"
      },
      "execution_count": 79,
      "outputs": [
        {
          "output_type": "stream",
          "name": "stdout",
          "text": [
            "a = 4\n",
            "b = 9\n",
            "c = 45\n"
          ]
        }
      ]
    },
    {
      "cell_type": "code",
      "source": [
        "p2.show()"
      ],
      "metadata": {
        "colab": {
          "base_uri": "https://localhost:8080/"
        },
        "id": "qUvw0ysFVPFb",
        "outputId": "f4e90b57-b6b7-4a5a-e68b-eaf622177b38"
      },
      "execution_count": 80,
      "outputs": [
        {
          "output_type": "stream",
          "name": "stdout",
          "text": [
            "d = 5\n",
            "e = 10\n",
            "f = 15\n"
          ]
        }
      ]
    },
    {
      "cell_type": "code",
      "source": [
        "ch.show()"
      ],
      "metadata": {
        "colab": {
          "base_uri": "https://localhost:8080/"
        },
        "id": "KmdQTjvjVzDs",
        "outputId": "209d78f0-413a-44b0-9b5d-82284da389e7"
      },
      "execution_count": 82,
      "outputs": [
        {
          "output_type": "stream",
          "name": "stdout",
          "text": [
            "a = 4\n",
            "b = 9\n",
            "c = 45\n"
          ]
        }
      ]
    },
    {
      "cell_type": "code",
      "source": [
        "ch._b"
      ],
      "metadata": {
        "colab": {
          "base_uri": "https://localhost:8080/"
        },
        "id": "xgCG7jUQWfij",
        "outputId": "66f516bd-197a-4880-b74f-e931be907af3"
      },
      "execution_count": 83,
      "outputs": [
        {
          "output_type": "execute_result",
          "data": {
            "text/plain": [
              "9"
            ]
          },
          "metadata": {},
          "execution_count": 83
        }
      ]
    },
    {
      "cell_type": "code",
      "source": [
        "ch.__c"
      ],
      "metadata": {
        "colab": {
          "base_uri": "https://localhost:8080/",
          "height": 165
        },
        "id": "G61CCUkBWqb6",
        "outputId": "c8947b1e-dbac-47ff-e434-88d249b4525d"
      },
      "execution_count": 84,
      "outputs": [
        {
          "output_type": "error",
          "ename": "AttributeError",
          "evalue": "ignored",
          "traceback": [
            "\u001b[0;31m---------------------------------------------------------------------------\u001b[0m",
            "\u001b[0;31mAttributeError\u001b[0m                            Traceback (most recent call last)",
            "\u001b[0;32m<ipython-input-84-9c811cba1774>\u001b[0m in \u001b[0;36m<module>\u001b[0;34m()\u001b[0m\n\u001b[0;32m----> 1\u001b[0;31m \u001b[0mch\u001b[0m\u001b[0;34m.\u001b[0m\u001b[0m__c\u001b[0m\u001b[0;34m\u001b[0m\u001b[0;34m\u001b[0m\u001b[0m\n\u001b[0m",
            "\u001b[0;31mAttributeError\u001b[0m: 'Child' object has no attribute '__c'"
          ]
        }
      ]
    },
    {
      "cell_type": "code",
      "source": [
        "ch.d"
      ],
      "metadata": {
        "colab": {
          "base_uri": "https://localhost:8080/"
        },
        "id": "pZA288EBWsES",
        "outputId": "5247ca50-8dfd-4eaa-9319-9336f376fa79"
      },
      "execution_count": 85,
      "outputs": [
        {
          "output_type": "execute_result",
          "data": {
            "text/plain": [
              "5"
            ]
          },
          "metadata": {},
          "execution_count": 85
        }
      ]
    },
    {
      "cell_type": "code",
      "source": [
        "ch._e"
      ],
      "metadata": {
        "colab": {
          "base_uri": "https://localhost:8080/"
        },
        "id": "TZpOyjSbWtu1",
        "outputId": "c060db09-55ce-4490-847b-3f9064920326"
      },
      "execution_count": 86,
      "outputs": [
        {
          "output_type": "execute_result",
          "data": {
            "text/plain": [
              "10"
            ]
          },
          "metadata": {},
          "execution_count": 86
        }
      ]
    },
    {
      "cell_type": "markdown",
      "source": [
        "### MULTILEVEL INHERITENCE"
      ],
      "metadata": {
        "id": "1ye28sd-Wvxq"
      }
    },
    {
      "cell_type": "code",
      "source": [
        "class Level1():\n",
        "  a = 4\n",
        "  _b = 9\n",
        "  __c = 45\n",
        "  def __init__(self):\n",
        "    print(\"a =\", self.a)\n",
        "    print(\"b =\", self._b)\n",
        "#    print(\"c =\", self.__c)"
      ],
      "metadata": {
        "id": "2o5KsDisWuyH"
      },
      "execution_count": 98,
      "outputs": []
    },
    {
      "cell_type": "code",
      "source": [
        "class Level2(Level1):\n",
        "  d = 5\n",
        "  _e = 10\n",
        "  __f = 15\n",
        "  def __init__(self):\n",
        "    super().__init__()\n",
        "    print(\"d =\", self.d)\n",
        "    print(\"e =\", self._e)\n",
        "#    print(\"f =\", self.__f)"
      ],
      "metadata": {
        "id": "qtYIWuv3XNbM"
      },
      "execution_count": 99,
      "outputs": []
    },
    {
      "cell_type": "code",
      "source": [
        "class Level3(Level2):\n",
        "  g = 35\n",
        "  _h = 40\n",
        "  __i = 65\n",
        "  def __init__(self):\n",
        "    super().__init__()\n",
        "    print(\"g =\", self.g)\n",
        "    print(\"h =\", self._h)\n",
        "    print(\"i =\", self.__i)"
      ],
      "metadata": {
        "id": "Au8q2P41Xe5-"
      },
      "execution_count": 100,
      "outputs": []
    },
    {
      "cell_type": "code",
      "source": [
        "l3 = Level3()"
      ],
      "metadata": {
        "colab": {
          "base_uri": "https://localhost:8080/"
        },
        "id": "uzkmypoHX164",
        "outputId": "a6173034-59f2-463f-d2da-75116cc25cd4"
      },
      "execution_count": 101,
      "outputs": [
        {
          "output_type": "stream",
          "name": "stdout",
          "text": [
            "a = 4\n",
            "b = 9\n",
            "d = 5\n",
            "e = 10\n",
            "g = 35\n",
            "h = 40\n",
            "i = 65\n"
          ]
        }
      ]
    },
    {
      "cell_type": "code",
      "source": [
        ""
      ],
      "metadata": {
        "id": "40b7ghQIX6OH"
      },
      "execution_count": null,
      "outputs": []
    }
  ]
}